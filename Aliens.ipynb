{
 "cells": [
  {
   "cell_type": "markdown",
   "metadata": {},
   "source": [
    "<img src=\"Ufo-icon.png\" height=\"256\" width=\"256\" style=\"float: right\">\n",
    "\n",
    "# A Needle in a Data Haystack - Final Project\n",
    "## Matan Cohen, Nir Schipper & Ran Shaham\n",
    "### Exploring UFO sightings data (or - ARE ALIENS REAL?)"
   ]
  },
  {
   "cell_type": "markdown",
   "metadata": {},
   "source": [
    "### Initialization"
   ]
  },
  {
   "cell_type": "code",
   "execution_count": 1,
   "metadata": {
    "collapsed": false
   },
   "outputs": [],
   "source": [
    "# imports\n",
    "import re\n",
    "import numpy as np\n",
    "import pandas as pd\n",
    "import matplotlib.pyplot as plt\n",
    "import matplotlib.dates as mdates\n",
    "import seaborn as sns\n",
    "import datetime as dt\n",
    "import html\n",
    "from ipywidgets import interact"
   ]
  },
  {
   "cell_type": "code",
   "execution_count": 2,
   "metadata": {
    "collapsed": true
   },
   "outputs": [],
   "source": [
    "# constants\n",
    "FILENAME = 'scrubbed.csv'\n",
    "DATETIME = 'datetime'\n",
    "YEAR = 'year'\n",
    "MONTH = 'month'\n",
    "DAY = 'day'\n",
    "TIME = 'time'\n",
    "SHAPE = 'shape'\n",
    "DESCRIPTION = 'comments'\n",
    "\n",
    "DATE_FORMAT = '%m/%d/%Y %H:%M'\n",
    "FIX_TIME_REGEX = (r'\\s24:(\\d{2})\\s*$', r' 00:\\1')"
   ]
  },
  {
   "cell_type": "code",
   "execution_count": 3,
   "metadata": {
    "collapsed": false
   },
   "outputs": [],
   "source": [
    "# magic & settings\n",
    "%matplotlib inline\n",
    "# big, juicy plots\n",
    "sns.set_context('talk')\n",
    "LARGE_FIGSIZE = (12, 8)\n",
    "# dark theme\n",
    "sns.set_style(style='dark', rc={'figsize': LARGE_FIGSIZE})\n",
    "sns.set_palette('RdBu')\n",
    "plt.rcParams.update({\n",
    "    'figure.figsize': LARGE_FIGSIZE, \n",
    "    'figure.facecolor': '#1e1e1e', \n",
    "    'axes.facecolor': '#1e1e1e',\n",
    "    'text.color': '#a7a7a7',\n",
    "    'axes.labelcolor': '#a7a7a7',\n",
    "    'xtick.color': '#a7a7a7',\n",
    "    'ytick.color': '#a7a7a7'\n",
    "})"
   ]
  },
  {
   "cell_type": "markdown",
   "metadata": {},
   "source": [
    "### Read & Clean the dataset"
   ]
  },
  {
   "cell_type": "code",
   "execution_count": 4,
   "metadata": {
    "collapsed": false,
    "scrolled": false
   },
   "outputs": [
    {
     "data": {
      "text/html": [
       "<div>\n",
       "<table border=\"1\" class=\"dataframe\">\n",
       "  <thead>\n",
       "    <tr style=\"text-align: right;\">\n",
       "      <th></th>\n",
       "      <th>datetime</th>\n",
       "      <th>year</th>\n",
       "      <th>city</th>\n",
       "      <th>state</th>\n",
       "      <th>country</th>\n",
       "      <th>shape</th>\n",
       "      <th>duration (seconds)</th>\n",
       "      <th>duration (hours/min)</th>\n",
       "      <th>comments</th>\n",
       "      <th>date posted</th>\n",
       "      <th>latitude</th>\n",
       "      <th>longitude</th>\n",
       "    </tr>\n",
       "  </thead>\n",
       "  <tbody>\n",
       "    <tr>\n",
       "      <th>0</th>\n",
       "      <td>1949-10-10 20:30:00</td>\n",
       "      <td>1949</td>\n",
       "      <td>San Marcos</td>\n",
       "      <td>TX</td>\n",
       "      <td>US</td>\n",
       "      <td>cylinder</td>\n",
       "      <td>2700</td>\n",
       "      <td>45 minutes</td>\n",
       "      <td>This event took place in early fall around 194...</td>\n",
       "      <td>4/27/2004</td>\n",
       "      <td>29.883056</td>\n",
       "      <td>-97.941111</td>\n",
       "    </tr>\n",
       "    <tr>\n",
       "      <th>1</th>\n",
       "      <td>1949-10-10 21:00:00</td>\n",
       "      <td>1949</td>\n",
       "      <td>Lackland Afb</td>\n",
       "      <td>TX</td>\n",
       "      <td>NaN</td>\n",
       "      <td>light</td>\n",
       "      <td>7200</td>\n",
       "      <td>1-2 hrs</td>\n",
       "      <td>1949 Lackland AFB, TX.  Lights racing across t...</td>\n",
       "      <td>12/16/2005</td>\n",
       "      <td>29.384210</td>\n",
       "      <td>-98.581082</td>\n",
       "    </tr>\n",
       "    <tr>\n",
       "      <th>2</th>\n",
       "      <td>1955-10-10 17:00:00</td>\n",
       "      <td>1955</td>\n",
       "      <td>Chester (Uk/England)</td>\n",
       "      <td>NaN</td>\n",
       "      <td>GB</td>\n",
       "      <td>circle</td>\n",
       "      <td>20</td>\n",
       "      <td>20 seconds</td>\n",
       "      <td>Green/Orange circular disc over Chester, England</td>\n",
       "      <td>1/21/2008</td>\n",
       "      <td>53.200000</td>\n",
       "      <td>-2.916667</td>\n",
       "    </tr>\n",
       "    <tr>\n",
       "      <th>3</th>\n",
       "      <td>1956-10-10 21:00:00</td>\n",
       "      <td>1956</td>\n",
       "      <td>Edna</td>\n",
       "      <td>TX</td>\n",
       "      <td>US</td>\n",
       "      <td>circle</td>\n",
       "      <td>20</td>\n",
       "      <td>1/2 hour</td>\n",
       "      <td>My older brother and twin sister were leaving ...</td>\n",
       "      <td>1/17/2004</td>\n",
       "      <td>28.978333</td>\n",
       "      <td>-96.645833</td>\n",
       "    </tr>\n",
       "    <tr>\n",
       "      <th>4</th>\n",
       "      <td>1960-10-10 20:00:00</td>\n",
       "      <td>1960</td>\n",
       "      <td>Kaneohe</td>\n",
       "      <td>HI</td>\n",
       "      <td>US</td>\n",
       "      <td>light</td>\n",
       "      <td>900</td>\n",
       "      <td>15 minutes</td>\n",
       "      <td>AS a Marine 1st Lt. flying an FJ4B fighter/att...</td>\n",
       "      <td>1/22/2004</td>\n",
       "      <td>21.418056</td>\n",
       "      <td>-157.803611</td>\n",
       "    </tr>\n",
       "  </tbody>\n",
       "</table>\n",
       "</div>"
      ],
      "text/plain": [
       "             datetime  year                  city state country     shape  \\\n",
       "0 1949-10-10 20:30:00  1949            San Marcos    TX      US  cylinder   \n",
       "1 1949-10-10 21:00:00  1949          Lackland Afb    TX     NaN     light   \n",
       "2 1955-10-10 17:00:00  1955  Chester (Uk/England)   NaN      GB    circle   \n",
       "3 1956-10-10 21:00:00  1956                  Edna    TX      US    circle   \n",
       "4 1960-10-10 20:00:00  1960               Kaneohe    HI      US     light   \n",
       "\n",
       "  duration (seconds) duration (hours/min)  \\\n",
       "0               2700           45 minutes   \n",
       "1               7200              1-2 hrs   \n",
       "2                 20           20 seconds   \n",
       "3                 20             1/2 hour   \n",
       "4                900           15 minutes   \n",
       "\n",
       "                                            comments date posted   latitude  \\\n",
       "0  This event took place in early fall around 194...   4/27/2004  29.883056   \n",
       "1  1949 Lackland AFB, TX.  Lights racing across t...  12/16/2005  29.384210   \n",
       "2   Green/Orange circular disc over Chester, England   1/21/2008  53.200000   \n",
       "3  My older brother and twin sister were leaving ...   1/17/2004  28.978333   \n",
       "4  AS a Marine 1st Lt. flying an FJ4B fighter/att...   1/22/2004  21.418056   \n",
       "\n",
       "    longitude  \n",
       "0  -97.941111  \n",
       "1  -98.581082  \n",
       "2   -2.916667  \n",
       "3  -96.645833  \n",
       "4 -157.803611  "
      ]
     },
     "execution_count": 4,
     "metadata": {},
     "output_type": "execute_result"
    }
   ],
   "source": [
    "# read the csv file and display some of its lines\n",
    "data = pd.read_csv(FILENAME, low_memory=False)\n",
    "\n",
    "# make comments readable (unescape html)\n",
    "data.loc[:, DESCRIPTION] = data[DESCRIPTION].apply(lambda val: html.unescape(str(val)))\n",
    "\n",
    "# parse datetime - fix 24h format first (24:xx --> 00:xx)\n",
    "# and insert a year column\n",
    "data.loc[:, DATETIME] = data[DATETIME].apply(lambda val: re.sub(*FIX_TIME_REGEX, str(val)))\n",
    "data.loc[:, DATETIME] = pd.to_datetime(data[DATETIME], errors='coerce')\n",
    "data.insert(1, YEAR, data[DATETIME].dt.year)\n",
    "data.loc[:, YEAR] = data[YEAR].fillna(0).astype(int)\n",
    "\n",
    "# tidy up the rest of the columns\n",
    "data.loc[:, 'city'] = data['city'].str.title()\n",
    "for col in ['state', 'country']:\n",
    "    data.loc[:, col] = data[col].str.upper()\n",
    "data['latitude'] = pd.to_numeric(data['latitude'], errors='coerce')\n",
    "data = data.rename(columns={'longitude ':'longitude'})\n",
    "\n",
    "data.head()"
   ]
  },
  {
   "cell_type": "markdown",
   "metadata": {},
   "source": [
    "### Shapes analysis"
   ]
  },
  {
   "cell_type": "markdown",
   "metadata": {},
   "source": [
    "First, we extract the unique shape values from all sightings:"
   ]
  },
  {
   "cell_type": "code",
   "execution_count": 5,
   "metadata": {
    "collapsed": false
   },
   "outputs": [],
   "source": [
    "shapes = pd.unique(data[SHAPE])\n",
    "shapes = [shape for shape in shapes if not pd.isnull(shape)]"
   ]
  },
  {
   "cell_type": "markdown",
   "metadata": {},
   "source": [
    "... and for every year, get the proportion of sightings with a given shape:"
   ]
  },
  {
   "cell_type": "code",
   "execution_count": 6,
   "metadata": {
    "collapsed": false
   },
   "outputs": [],
   "source": [
    "# get the distribution of each shape for every year\n",
    "years = np.unique(data[YEAR])\n",
    "def get_shape_distribution(shape, data):\n",
    "    # ignore queries with a small number of data rows\n",
    "    if len(data) < 10:\n",
    "        return 0\n",
    "    else:\n",
    "        return len(data.loc[data[SHAPE] == shape, SHAPE]) / len(data)\n",
    "\n",
    "shapes_dist = pd.DataFrame(columns=shapes, index=years)\n",
    "for year in years:\n",
    "    year_data = data.loc[data[YEAR] == year, :]\n",
    "    shapes_distributions = {shape: get_shape_distribution(shape, year_data)\n",
    "                            for shape in shapes}\n",
    "    shapes_dist.loc[year, :] = shapes_distributions"
   ]
  },
  {
   "cell_type": "markdown",
   "metadata": {},
   "source": [
    "Use the following widget to explore the change in shapes in sightings over the years"
   ]
  },
  {
   "cell_type": "code",
   "execution_count": 7,
   "metadata": {
    "collapsed": false,
    "scrolled": false
   },
   "outputs": [
    {
     "data": {
      "image/png": "[encoded data removed]",
      "text/plain": [
       "<matplotlib.figure.Figure at 0x7fcaca2fdb38>"
      ]
     },
     "metadata": {},
     "output_type": "display_data"
    }
   ],
   "source": [
    "shapes_selection = {shape: False for shape in shapes}\n",
    "\n",
    "@interact(from_time=[min(years), max(years)],\n",
    "          to_time=[min(years), max(years)],\n",
    "          shape_1=shapes, \n",
    "          shape_2=shapes)\n",
    "def plot_shape_distributions(from_time=1960,\n",
    "                             to_time=2014,\n",
    "                             shape_1='disk', \n",
    "                             shape_2='light'):\n",
    "    # configure the figure\n",
    "    fig = plt.figure()\n",
    "    plt.xlabel('Year')\n",
    "    plt.ylabel('Proportion of sightings with this shape')\n",
    "    plt.title(\"Shapes: {0}, {1}\".format(shape_1, shape_2))\n",
    "    \n",
    "    # get the relevant data and plot it\n",
    "    to_time = max(from_time, to_time)\n",
    "    x_0 = years[(years >= from_time) & (years <= to_time)]\n",
    "    ys = [None, None]\n",
    "    ys[0] = shapes_dist.loc[x_0, shape_1]\n",
    "    ys[1] = shapes_dist.loc[x_0, shape_2]\n",
    "    for y in ys:\n",
    "        # we ignore years with 0 sightings\n",
    "        y = y.replace(0, np.nan).dropna()\n",
    "        x = [year for year in x_0 if year in y.index]\n",
    "        plt.scatter(x, y)\n",
    "\n",
    "    plt.legend()"
   ]
  },
  {
   "cell_type": "markdown",
   "metadata": {},
   "source": [
    "_We get a lot less disk-shaped UFOs these days. What a shame._"
   ]
  },
  {
   "cell_type": "markdown",
   "metadata": {},
   "source": [
    "### Sighting's Duration Analysis"
   ]
  },
  {
   "cell_type": "markdown",
   "metadata": {},
   "source": [
    "### Locations Analysis"
   ]
  },
  {
   "cell_type": "code",
   "execution_count": 8,
   "metadata": {
    "collapsed": false,
    "scrolled": true
   },
   "outputs": [
    {
     "data": {
      "text/html": [
       "/*\n",
       "\n",
       "    Name:       Base16 Twilight Dark\n",
       "    Author:     David Hart (http://hart-dev.com)\n",
       "\n",
       "    CodeMirror template adapted for IPython Notebook by Nikhil Sonnad (https://github.com/nsonnad/base16-ipython-notebook)\n",
       "    CodeMirror template by Jan T. Sott (https://github.com/idleberg/base16-chrome-devtools)\n",
       "    Original Base16 color scheme by Chris Kempson (https://github.com/chriskempson/base16)\n",
       "\n",
       "*/\n",
       "<style>\n",
       "/* Uncomment to use a custom font\n",
       "div#notebook, div.CodeMirror, div.output_area pre, div.output_wrapper, div.prompt {\n",
       "  font-family: 'Custom Font Name', monospace !important;\n",
       "}\n",
       "*/\n",
       "\n",
       "\n",
       "/*Sherif's customizations*/\n",
       "\n",
       "/*Otherwise, a lot of backgrounds are white.*/\n",
       "div#notebook {background-color: #1e1e1e; border-top: none;}\n",
       "div#notebook-container {background-color: #1e1e1e;}\n",
       "\n",
       "/*Don't need to see jupyter logo, filename, last saved, etc.*/\n",
       "div#header-container { display: none; }\n",
       "\n",
       "/*This prevents scrollable output from having an ugly grey\n",
       "shadow around it*/\n",
       "div.output.output_scroll {\n",
       "    box-shadow: none;\n",
       "}\n",
       "\n",
       "/*Scroll bars*/\n",
       "::-webkit-scrollbar {\n",
       "    width: 12px;\n",
       "}\n",
       "\n",
       "/* Handle */\n",
       "::-webkit-scrollbar-thumb {\n",
       "    -webkit-border-radius: 5px;\n",
       "    border-radius: 5px;\n",
       "    background: #484848;\n",
       "}\n",
       "::-webkit-scrollbar-thumb:window-inactive {\n",
       "\tbackground: #484848;\n",
       "}\n",
       "\n",
       "\n",
       "/*########################*/\n",
       "\n",
       "\n",
       "/* GLOBALS */\n",
       "body {background-color: #1e1e1e;}\n",
       "a {color: #7587a6;}\n",
       "\n",
       "/* INTRO PAGE */\n",
       ".toolbar_info, .list_container {color: #c3c3c3;}\n",
       "\n",
       "/* NOTEBOOK */\n",
       "\n",
       "/* comment out this line to bring the toolbar back */\n",
       "/*div#maintoolbar, div#header {display: none !important;}*/\n",
       "\n",
       "div.input_prompt {color: #9b703f;}\n",
       "div.output_prompt {color: #9b859d;}\n",
       "div.input_area {\n",
       "  border-radius: 0px;\n",
       "  border: 1px solid #464b50;\n",
       "}\n",
       "div.output_area pre {font-weight: normal; color: #a7a7a7;}\n",
       "div.output_subarea {font-weight: normal; color: #a7a7a7;}\n",
       "\n",
       ".widget-label, .widget-readout {\n",
       "  font-weight: normal;\n",
       "  color: #a7a7a7;\n",
       "}\n",
       "\n",
       ".ui-widget {\n",
       "  background: #323537;\n",
       "  color: #323537;\n",
       "}\n",
       "\n",
       ".rendered_html table, .rendered_html th, .rendered_html tr, .rendered_html td {\n",
       "  border: 1px  #a7a7a7 solid;\n",
       "  color: #a7a7a7;\n",
       "}\n",
       "div.output_html { font-family: sans-serif; }\n",
       "table.dataframe tr {border: 1px #a7a7a7;}\n",
       "\n",
       "div.cell.selected {border-radius: 0px;}\n",
       "div.cell.edit_mode {border-radius: 0px; border: thin solid #9b859d;}\n",
       "div.text_cell_render, div.output_html {color: #a7a7a7;}\n",
       "\n",
       "span.ansiblack {color: #323537;}\n",
       "span.ansiblue {color: #afc4db;}\n",
       "span.ansigray {color: #838184;}\n",
       "span.ansigreen {color: #8f9d6a;}\n",
       "span.ansipurple {color: #9b859d;}\n",
       "span.ansired {color: #cf6a4c;}\n",
       "span.ansiyellow {color: #f9ee98;}\n",
       "\n",
       "div.output_stderr {background-color: #cf6a4c;}\n",
       "div.output_stderr pre {color: #c3c3c3;}\n",
       "\n",
       ".cm-s-ipython.CodeMirror {background: #1e1e1e; color: #c3c3c3;}\n",
       ".cm-s-ipython div.CodeMirror-selected {background: #323537 !important;}\n",
       ".cm-s-ipython .CodeMirror-gutters {background: #1e1e1e; border-right: 0px;}\n",
       ".cm-s-ipython .CodeMirror-linenumber {color: #5f5a60;}kjj\n",
       ".cm-s-ipython .CodeMirror-cursor {border-left: 1px solid #838184 !important;}\n",
       "\n",
       ".cm-s-ipython span.cm-comment {color: #9b703f;}\n",
       ".cm-s-ipython span.cm-atom {color: #9b859d;}\n",
       ".cm-s-ipython span.cm-number {color: #9b859d;}\n",
       "\n",
       ".cm-s-ipython span.cm-property, .cm-s-ipython span.cm-attribute {color: #8f9d6a;}\n",
       ".cm-s-ipython span.cm-keyword {color: #cf6a4c;}\n",
       ".cm-s-ipython span.cm-string {color: #f9ee98;}\n",
       ".cm-s-ipython span.cm-operator {color: #9b703f;}\n",
       ".cm-s-ipython span.cm-builtin {color: #9b859d;}\n",
       "\n",
       ".cm-s-ipython span.cm-variable {color: #8f9d6a;}\n",
       ".cm-s-ipython span.cm-variable-2 {color: #7587a6;}\n",
       ".cm-s-ipython span.cm-def {color: #cda869;}\n",
       ".cm-s-ipython span.cm-error {background: #cf6a4c; color: #838184;}\n",
       ".cm-s-ipython span.cm-bracket {color: #a7a7a7;}\n",
       ".cm-s-ipython span.cm-tag {color: #cf6a4c;}\n",
       ".cm-s-ipython span.cm-link {color: #9b859d;}\n",
       "\n",
       ".cm-s-ipython .CodeMirror-matchingbracket { text-decoration: underline; color: #c3c3c3 !important;}\n",
       "</style>\n"
      ],
      "text/plain": [
       "<IPython.core.display.HTML object>"
      ]
     },
     "execution_count": 8,
     "metadata": {},
     "output_type": "execute_result"
    }
   ],
   "source": [
    "from IPython.core.display import HTML\n",
    "def css_styling():\n",
    "    styles = open(\"./styles/custom.css\", \"r\").read()\n",
    "    return HTML(styles)\n",
    "css_styling()"
   ]
  }
 ],
 "metadata": {
  "kernelspec": {
   "display_name": "Python 3",
   "language": "python",
   "name": "python3"
  },
  "language_info": {
   "codemirror_mode": {
    "name": "ipython",
    "version": 3
   },
   "file_extension": ".py",
   "mimetype": "text/x-python",
   "name": "python",
   "nbconvert_exporter": "python",
   "pygments_lexer": "ipython3",
   "version": "3.6.0"
  },
  "widgets": {
   "state": {
    "98b8b65048a948c39e74b6cceb0be3ab": {
     "views": [
      {
       "cell_index": 13
      }
     ]
    }
   },
   "version": "1.2.0"
  }
 },
 "nbformat": 4,
 "nbformat_minor": 2
}
