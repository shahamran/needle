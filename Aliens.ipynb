{
 "cells": [
  {
   "cell_type": "markdown",
   "metadata": {},
   "source": [
    "<img src=\"Ufo-icon.png\" height=\"256\" width=\"256\" style=\"float: right\">\n",
    "\n",
    "# A Needle in a Data Haystack - Final Project\n",
    "## Matan Cohen, Nir Schipper & Ran Shaham\n",
    "### Exploring UFO sightings data (or - ARE ALIENS REAL?)"
   ]
  },
  {
   "cell_type": "markdown",
   "metadata": {},
   "source": [
    "### Initialization"
   ]
  },
  {
   "cell_type": "code",
   "execution_count": 1,
   "metadata": {
    "collapsed": false
   },
   "outputs": [],
   "source": [
    "# imports\n",
    "import re\n",
    "import numpy as np\n",
    "import pandas as pd\n",
    "import matplotlib.pyplot as plt\n",
    "import matplotlib.dates as mdates\n",
    "import seaborn as sns\n",
    "import datetime as dt\n",
    "import html\n",
    "from ipywidgets import interact"
   ]
  },
  {
   "cell_type": "code",
   "execution_count": 2,
   "metadata": {
    "collapsed": true
   },
   "outputs": [],
   "source": [
    "# constants\n",
    "FILENAME = 'scrubbed.csv'\n",
    "DATETIME = 'datetime'\n",
    "YEAR = 'year'\n",
    "MONTH = 'month'\n",
    "DAY = 'day'\n",
    "TIME = 'time'\n",
    "SHAPE = 'shape'\n",
    "DESCRIPTION = 'comments'\n",
    "\n",
    "DATE_FORMAT = '%m/%d/%Y %H:%M'\n",
    "FIX_TIME_REGEX = (r'\\s24:(\\d{2})\\s*$', r' 00:\\1')"
   ]
  },
  {
   "cell_type": "code",
   "execution_count": 3,
   "metadata": {
    "collapsed": false
   },
   "outputs": [],
   "source": [
    "# magic & settings\n",
    "%matplotlib inline\n",
    "# big, juicy plots\n",
    "sns.set_context('talk')\n",
    "LARGE_FIGSIZE = (12, 8)\n",
    "# style\n",
    "sns.set_style(style='white', rc={'figsize': LARGE_FIGSIZE})\n",
    "plt.rcParams.update({\n",
    "    'figure.figsize': LARGE_FIGSIZE,\n",
    "})"
   ]
  },
  {
   "cell_type": "markdown",
   "metadata": {},
   "source": [
    "### Read & Clean the dataset"
   ]
  },
  {
   "cell_type": "code",
   "execution_count": 4,
   "metadata": {
    "collapsed": false,
    "scrolled": false
   },
   "outputs": [
    {
     "data": {
      "text/html": [
       "<div>\n",
       "<table border=\"1\" class=\"dataframe\">\n",
       "  <thead>\n",
       "    <tr style=\"text-align: right;\">\n",
       "      <th></th>\n",
       "      <th>datetime</th>\n",
       "      <th>year</th>\n",
       "      <th>city</th>\n",
       "      <th>state</th>\n",
       "      <th>country</th>\n",
       "      <th>shape</th>\n",
       "      <th>duration (seconds)</th>\n",
       "      <th>duration (hours/min)</th>\n",
       "      <th>comments</th>\n",
       "      <th>date posted</th>\n",
       "      <th>latitude</th>\n",
       "      <th>longitude</th>\n",
       "    </tr>\n",
       "  </thead>\n",
       "  <tbody>\n",
       "    <tr>\n",
       "      <th>0</th>\n",
       "      <td>1949-10-10 20:30:00</td>\n",
       "      <td>1949</td>\n",
       "      <td>San Marcos</td>\n",
       "      <td>TX</td>\n",
       "      <td>US</td>\n",
       "      <td>cylinder</td>\n",
       "      <td>2700</td>\n",
       "      <td>45 minutes</td>\n",
       "      <td>This event took place in early fall around 194...</td>\n",
       "      <td>4/27/2004</td>\n",
       "      <td>29.883056</td>\n",
       "      <td>-97.941111</td>\n",
       "    </tr>\n",
       "    <tr>\n",
       "      <th>1</th>\n",
       "      <td>1949-10-10 21:00:00</td>\n",
       "      <td>1949</td>\n",
       "      <td>Lackland Afb</td>\n",
       "      <td>TX</td>\n",
       "      <td>NaN</td>\n",
       "      <td>light</td>\n",
       "      <td>7200</td>\n",
       "      <td>1-2 hrs</td>\n",
       "      <td>1949 Lackland AFB, TX.  Lights racing across t...</td>\n",
       "      <td>12/16/2005</td>\n",
       "      <td>29.384210</td>\n",
       "      <td>-98.581082</td>\n",
       "    </tr>\n",
       "    <tr>\n",
       "      <th>2</th>\n",
       "      <td>1955-10-10 17:00:00</td>\n",
       "      <td>1955</td>\n",
       "      <td>Chester (Uk/England)</td>\n",
       "      <td>NaN</td>\n",
       "      <td>GB</td>\n",
       "      <td>circle</td>\n",
       "      <td>20</td>\n",
       "      <td>20 seconds</td>\n",
       "      <td>Green/Orange circular disc over Chester, England</td>\n",
       "      <td>1/21/2008</td>\n",
       "      <td>53.200000</td>\n",
       "      <td>-2.916667</td>\n",
       "    </tr>\n",
       "    <tr>\n",
       "      <th>3</th>\n",
       "      <td>1956-10-10 21:00:00</td>\n",
       "      <td>1956</td>\n",
       "      <td>Edna</td>\n",
       "      <td>TX</td>\n",
       "      <td>US</td>\n",
       "      <td>circle</td>\n",
       "      <td>20</td>\n",
       "      <td>1/2 hour</td>\n",
       "      <td>My older brother and twin sister were leaving ...</td>\n",
       "      <td>1/17/2004</td>\n",
       "      <td>28.978333</td>\n",
       "      <td>-96.645833</td>\n",
       "    </tr>\n",
       "    <tr>\n",
       "      <th>4</th>\n",
       "      <td>1960-10-10 20:00:00</td>\n",
       "      <td>1960</td>\n",
       "      <td>Kaneohe</td>\n",
       "      <td>HI</td>\n",
       "      <td>US</td>\n",
       "      <td>light</td>\n",
       "      <td>900</td>\n",
       "      <td>15 minutes</td>\n",
       "      <td>AS a Marine 1st Lt. flying an FJ4B fighter/att...</td>\n",
       "      <td>1/22/2004</td>\n",
       "      <td>21.418056</td>\n",
       "      <td>-157.803611</td>\n",
       "    </tr>\n",
       "  </tbody>\n",
       "</table>\n",
       "</div>"
      ],
      "text/plain": [
       "             datetime  year                  city state country     shape  \\\n",
       "0 1949-10-10 20:30:00  1949            San Marcos    TX      US  cylinder   \n",
       "1 1949-10-10 21:00:00  1949          Lackland Afb    TX     NaN     light   \n",
       "2 1955-10-10 17:00:00  1955  Chester (Uk/England)   NaN      GB    circle   \n",
       "3 1956-10-10 21:00:00  1956                  Edna    TX      US    circle   \n",
       "4 1960-10-10 20:00:00  1960               Kaneohe    HI      US     light   \n",
       "\n",
       "  duration (seconds) duration (hours/min)  \\\n",
       "0               2700           45 minutes   \n",
       "1               7200              1-2 hrs   \n",
       "2                 20           20 seconds   \n",
       "3                 20             1/2 hour   \n",
       "4                900           15 minutes   \n",
       "\n",
       "                                            comments date posted   latitude  \\\n",
       "0  This event took place in early fall around 194...   4/27/2004  29.883056   \n",
       "1  1949 Lackland AFB, TX.  Lights racing across t...  12/16/2005  29.384210   \n",
       "2   Green/Orange circular disc over Chester, England   1/21/2008  53.200000   \n",
       "3  My older brother and twin sister were leaving ...   1/17/2004  28.978333   \n",
       "4  AS a Marine 1st Lt. flying an FJ4B fighter/att...   1/22/2004  21.418056   \n",
       "\n",
       "    longitude  \n",
       "0  -97.941111  \n",
       "1  -98.581082  \n",
       "2   -2.916667  \n",
       "3  -96.645833  \n",
       "4 -157.803611  "
      ]
     },
     "execution_count": 4,
     "metadata": {},
     "output_type": "execute_result"
    }
   ],
   "source": [
    "# read the csv file and display some of its lines\n",
    "data = pd.read_csv(FILENAME, low_memory=False)\n",
    "\n",
    "# make comments readable (unescape html)\n",
    "data.loc[:, DESCRIPTION] = data[DESCRIPTION].apply(lambda val: html.unescape(str(val)))\n",
    "\n",
    "# parse datetime - fix 24h format first (24:xx --> 00:xx)\n",
    "# and insert a year column\n",
    "data.loc[:, DATETIME] = data[DATETIME].apply(lambda val: re.sub(*FIX_TIME_REGEX, str(val)))\n",
    "data.loc[:, DATETIME] = pd.to_datetime(data[DATETIME], errors='coerce')\n",
    "data.insert(1, YEAR, data[DATETIME].dt.year)\n",
    "data.loc[:, YEAR] = data[YEAR].fillna(0).astype(int)\n",
    "\n",
    "# tidy up the rest of the columns\n",
    "data.loc[:, 'city'] = data['city'].str.title()\n",
    "for col in ['state', 'country']:\n",
    "    data.loc[:, col] = data[col].str.upper()\n",
    "data['latitude'] = pd.to_numeric(data['latitude'], errors='coerce')\n",
    "data = data.rename(columns={'longitude ':'longitude'})\n",
    "\n",
    "data.head()"
   ]
  },
  {
   "cell_type": "markdown",
   "metadata": {},
   "source": [
    "### Shapes analysis"
   ]
  },
  {
   "cell_type": "markdown",
   "metadata": {},
   "source": [
    "First, we extract the unique shape values from all sightings:"
   ]
  },
  {
   "cell_type": "code",
   "execution_count": 5,
   "metadata": {
    "collapsed": false
   },
   "outputs": [],
   "source": [
    "shapes = pd.unique(data[SHAPE])\n",
    "shapes = [shape for shape in shapes if not pd.isnull(shape)]"
   ]
  },
  {
   "cell_type": "markdown",
   "metadata": {},
   "source": [
    "... and for every year, get the proportion of sightings with a given shape:"
   ]
  },
  {
   "cell_type": "code",
   "execution_count": 6,
   "metadata": {
    "collapsed": false
   },
   "outputs": [],
   "source": [
    "# get the distribution of each shape for every year\n",
    "years = np.unique(data[YEAR])\n",
    "def get_shape_distribution(shape, data):\n",
    "    # ignore queries with a small number of data rows\n",
    "    if len(data) < 10:\n",
    "        return 0\n",
    "    else:\n",
    "        return len(data.loc[data[SHAPE] == shape, SHAPE]) / len(data)\n",
    "\n",
    "shapes_dist = pd.DataFrame(columns=shapes, index=years)\n",
    "for year in years:\n",
    "    year_data = data.loc[data[YEAR] == year, :]\n",
    "    shapes_distributions = {shape: get_shape_distribution(shape, year_data)\n",
    "                            for shape in shapes}\n",
    "    shapes_dist.loc[year, :] = shapes_distributions"
   ]
  },
  {
   "cell_type": "markdown",
   "metadata": {},
   "source": [
    "Use the following widget to explore the change in shapes in sightings over the years"
   ]
  },
  {
   "cell_type": "code",
   "execution_count": 7,
   "metadata": {
    "collapsed": false,
    "scrolled": false
   },
   "outputs": [
    {
     "data": {
      "image/png": "[encoded data removed]",
      "text/plain": [
       "<matplotlib.figure.Figure at 0x7f0176199470>"
      ]
     },
     "metadata": {},
     "output_type": "display_data"
    }
   ],
   "source": [
    "shapes_selection = {shape: False for shape in shapes}\n",
    "\n",
    "@interact(from_time=[min(years), max(years)],\n",
    "          to_time=[min(years), max(years)],\n",
    "          shape_1=shapes, \n",
    "          shape_2=shapes)\n",
    "def plot_shape_distributions(from_time=1960,\n",
    "                             to_time=2014,\n",
    "                             shape_1='disk', \n",
    "                             shape_2='light'):\n",
    "    # configure the figure\n",
    "    fig = plt.figure()\n",
    "    plt.xlabel('Year')\n",
    "    plt.ylabel('Proportion of sightings with this shape')\n",
    "    plt.title(\"Shapes: {0}, {1}\".format(shape_1, shape_2))\n",
    "    \n",
    "    # get the relevant data and plot it\n",
    "    to_time = max(from_time, to_time)\n",
    "    x_0 = years[(years >= from_time) & (years <= to_time)]\n",
    "    ys = [None, None]\n",
    "    ys[0] = shapes_dist.loc[x_0, shape_1]\n",
    "    ys[1] = shapes_dist.loc[x_0, shape_2]\n",
    "    for y in ys:\n",
    "        # we ignore years with 0 sightings\n",
    "        y = y.replace(0, np.nan).dropna()\n",
    "        x = [year for year in x_0 if year in y.index]\n",
    "        plt.scatter(x, y)\n",
    "\n",
    "    plt.legend()"
   ]
  },
  {
   "cell_type": "markdown",
   "metadata": {},
   "source": [
    "_We get a lot less disk-shaped UFOs these days. What a shame._"
   ]
  },
  {
   "cell_type": "markdown",
   "metadata": {},
   "source": [
    "### Sighting's Duration Analysis"
   ]
  },
  {
   "cell_type": "markdown",
   "metadata": {},
   "source": [
    "### Locations Analysis"
   ]
  }
 ],
 "metadata": {
  "kernelspec": {
   "display_name": "Python 3",
   "language": "python",
   "name": "python3"
  },
  "language_info": {
   "codemirror_mode": {
    "name": "ipython",
    "version": 3
   },
   "file_extension": ".py",
   "mimetype": "text/x-python",
   "name": "python",
   "nbconvert_exporter": "python",
   "pygments_lexer": "ipython3",
   "version": "3.6.0"
  },
  "widgets": {
   "state": {
    "a8e0248736a24593bd9589d382db9a67": {
     "views": [
      {
       "cell_index": 13
      }
     ]
    }
   },
   "version": "1.2.0"
  }
 },
 "nbformat": 4,
 "nbformat_minor": 2
}
